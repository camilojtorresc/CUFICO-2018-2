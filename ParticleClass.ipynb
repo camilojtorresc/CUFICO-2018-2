{
 "cells": [
  {
   "cell_type": "code",
   "execution_count": 20,
   "metadata": {},
   "outputs": [],
   "source": [
    "class Particle:\n",
    "    cargada=True\n",
    "    def __init__(self,x,y,z,vx,vy,vz,m,carga):\n",
    "        self.X=x\n",
    "        self.Y=y\n",
    "        self.Z=z\n",
    "        self.VX=vx\n",
    "        self.VY=vy\n",
    "        self.VZ=vz\n",
    "        self.M=m\n",
    "        self.Carga=carga\n",
    "    def Pos_evol(self,xi,vi,a,t):\n",
    "        return xi+(vi*t)+(0.5*a*(t**2)) \n",
    "    def Vel_evol(self,vi,a,t):\n",
    "        return vi+(a*t)\n",
    "    def time_evol(self,fx,fy,fz,t):\n",
    "        self.X=self.pos_evol(self.X,self.VX,fx/self.M,t)\n",
    "        self.Y=self.pos_evol(self.Y,self.VY,fy/self.M,t)\n",
    "        self.Z=self.pos_evol(self.Z,self.VZ,fz/self.M,t)\n",
    "        self.VX=self.Vel_evol(self.VX,fx/self.M,t)\n",
    "        self.VY=self.Vel_evol(self.VY,fy/self.M,t)\n",
    "        self.VZ=self.Vel_evol(self.VZ,fz/self.M,t)\n",
    "    \n"
   ]
  },
  {
   "cell_type": "code",
   "execution_count": 19,
   "metadata": {},
   "outputs": [],
   "source": []
  },
  {
   "cell_type": "code",
   "execution_count": null,
   "metadata": {},
   "outputs": [],
   "source": []
  }
 ],
 "metadata": {
  "kernelspec": {
   "display_name": "Python 3",
   "language": "python",
   "name": "python3"
  },
  "language_info": {
   "codemirror_mode": {
    "name": "ipython",
    "version": 3
   },
   "file_extension": ".py",
   "mimetype": "text/x-python",
   "name": "python",
   "nbconvert_exporter": "python",
   "pygments_lexer": "ipython3",
   "version": "3.6.5"
  }
 },
 "nbformat": 4,
 "nbformat_minor": 2
}
